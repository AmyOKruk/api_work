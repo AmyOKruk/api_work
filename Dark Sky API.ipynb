{
 "cells": [
  {
   "cell_type": "code",
   "execution_count": 1,
   "metadata": {},
   "outputs": [],
   "source": [
    "from dotenv import load_dotenv\n",
    "load_dotenv()\n",
    "\n",
    "import os\n",
    "\n",
    "DARKSKY_API_KEY = os.getenv(\"DARKSKY_API_KEY\")"
   ]
  },
  {
   "cell_type": "code",
   "execution_count": 2,
   "metadata": {},
   "outputs": [],
   "source": [
    "import requests\n",
    "api_key = DARKSKY_API_KEY"
   ]
  },
  {
   "cell_type": "code",
   "execution_count": 3,
   "metadata": {},
   "outputs": [
    {
     "name": "stdout",
     "output_type": "stream",
     "text": [
      "The temperature is currently 57.91 degrees Fahrenheit.\n"
     ]
    }
   ],
   "source": [
    "response = requests.get(f'https://api.darksky.net/forecast/{DARKSKY_API_KEY}/37.8267,-122.4233')\n",
    "data = response.json()\n",
    "print(\"The temperature is currently\", data['currently']['temperature'], \"degrees Fahrenheit.\")"
   ]
  },
  {
   "cell_type": "code",
   "execution_count": 4,
   "metadata": {},
   "outputs": [
    {
     "name": "stdout",
     "output_type": "stream",
     "text": [
      "The temperature is currently 41.99 degrees Fahrenheit.\n"
     ]
    }
   ],
   "source": [
    "response = requests.get(f'https://api.darksky.net/forecast/{DARKSKY_API_KEY}/48,101')\n",
    "data = response.json()\n",
    "print(\"The temperature is currently\", data['currently']['temperature'], \"degrees Fahrenheit.\")"
   ]
  },
  {
   "cell_type": "code",
   "execution_count": 5,
   "metadata": {},
   "outputs": [
    {
     "data": {
      "text/plain": [
       "'/Users/amyokruk/.pyenv/versions/3.6.5/bin:/Users/amyokruk/.pyenv/versions/3.6.5/bin:/usr/local/Cellar/pyenv/1.2.11/libexec:/Users/amyokruk/.pyenv/shims:/Users/amyokruk/.pyenv/bin:/Users/amyokruk/.pyenv/bin:/Users/amyokruk/.pyenv/shims:/Users/amyokruk/.pyenv/bin:/Library/Frameworks/Python.framework/Versions/3.7/bin:/Library/Frameworks/Python.framework/Versions/2.7/bin:/usr/local/bin:/usr/bin:/bin:/usr/sbin:/sbin:/Applications/Postgres.app/Contents/Versions/latest/bin'"
      ]
     },
     "execution_count": 5,
     "metadata": {},
     "output_type": "execute_result"
    }
   ],
   "source": [
    "os.getenv('PATH')"
   ]
  },
  {
   "cell_type": "code",
   "execution_count": 6,
   "metadata": {},
   "outputs": [],
   "source": [
    "!touch .super_secret_file"
   ]
  },
  {
   "cell_type": "code",
   "execution_count": null,
   "metadata": {},
   "outputs": [],
   "source": []
  },
  {
   "cell_type": "code",
   "execution_count": null,
   "metadata": {},
   "outputs": [],
   "source": []
  }
 ],
 "metadata": {
  "kernelspec": {
   "display_name": "Python 3",
   "language": "python",
   "name": "python3"
  },
  "language_info": {
   "codemirror_mode": {
    "name": "ipython",
    "version": 3
   },
   "file_extension": ".py",
   "mimetype": "text/x-python",
   "name": "python",
   "nbconvert_exporter": "python",
   "pygments_lexer": "ipython3",
   "version": "3.6.5"
  }
 },
 "nbformat": 4,
 "nbformat_minor": 2
}
